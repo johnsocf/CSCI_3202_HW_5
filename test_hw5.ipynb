{
  "nbformat": 4,
  "nbformat_minor": 0,
  "metadata": {
    "accelerator": "GPU",
    "colab": {
      "name": "test_hw5.ipynb",
      "provenance": [],
      "collapsed_sections": [],
      "toc_visible": true,
      "mount_file_id": "1_VlqQ_2JrsAZHQyQlm2Z6DhwoPhmaaq1",
      "authorship_tag": "ABX9TyPaXDxRF5fcTdUYTtLnv1Ni",
      "include_colab_link": true
    },
    "kernelspec": {
      "display_name": "Python 3",
      "name": "python3"
    }
  },
  "cells": [
    {
      "cell_type": "markdown",
      "metadata": {
        "id": "view-in-github",
        "colab_type": "text"
      },
      "source": [
        "<a href=\"https://colab.research.google.com/github/johnsocf/CSCI_3202_HW_5/blob/master/test_hw5.ipynb\" target=\"_parent\"><img src=\"https://colab.research.google.com/assets/colab-badge.svg\" alt=\"Open In Colab\"/></a>"
      ]
    },
    {
      "cell_type": "code",
      "metadata": {
        "id": "SMXZFc_qByck"
      },
      "source": [
        "%tensorflow_version 2.x"
      ],
      "execution_count": 1,
      "outputs": []
    },
    {
      "cell_type": "code",
      "metadata": {
        "id": "IthX7ZtSGFBO",
        "outputId": "5265b017-be8b-427b-b1cb-2e61710b0008",
        "colab": {
          "base_uri": "https://localhost:8080/"
        }
      },
      "source": [
        "!pip install scikit-plot"
      ],
      "execution_count": 2,
      "outputs": [
        {
          "output_type": "stream",
          "text": [
            "Collecting scikit-plot\n",
            "  Downloading https://files.pythonhosted.org/packages/7c/47/32520e259340c140a4ad27c1b97050dd3254fdc517b1d59974d47037510e/scikit_plot-0.3.7-py3-none-any.whl\n",
            "Requirement already satisfied: scikit-learn>=0.18 in /usr/local/lib/python3.6/dist-packages (from scikit-plot) (0.22.2.post1)\n",
            "Requirement already satisfied: joblib>=0.10 in /usr/local/lib/python3.6/dist-packages (from scikit-plot) (0.17.0)\n",
            "Requirement already satisfied: scipy>=0.9 in /usr/local/lib/python3.6/dist-packages (from scikit-plot) (1.4.1)\n",
            "Requirement already satisfied: matplotlib>=1.4.0 in /usr/local/lib/python3.6/dist-packages (from scikit-plot) (3.2.2)\n",
            "Requirement already satisfied: numpy>=1.11.0 in /usr/local/lib/python3.6/dist-packages (from scikit-learn>=0.18->scikit-plot) (1.18.5)\n",
            "Requirement already satisfied: kiwisolver>=1.0.1 in /usr/local/lib/python3.6/dist-packages (from matplotlib>=1.4.0->scikit-plot) (1.3.1)\n",
            "Requirement already satisfied: python-dateutil>=2.1 in /usr/local/lib/python3.6/dist-packages (from matplotlib>=1.4.0->scikit-plot) (2.8.1)\n",
            "Requirement already satisfied: pyparsing!=2.0.4,!=2.1.2,!=2.1.6,>=2.0.1 in /usr/local/lib/python3.6/dist-packages (from matplotlib>=1.4.0->scikit-plot) (2.4.7)\n",
            "Requirement already satisfied: cycler>=0.10 in /usr/local/lib/python3.6/dist-packages (from matplotlib>=1.4.0->scikit-plot) (0.10.0)\n",
            "Requirement already satisfied: six>=1.5 in /usr/local/lib/python3.6/dist-packages (from python-dateutil>=2.1->matplotlib>=1.4.0->scikit-plot) (1.15.0)\n",
            "Installing collected packages: scikit-plot\n",
            "Successfully installed scikit-plot-0.3.7\n"
          ],
          "name": "stdout"
        }
      ]
    },
    {
      "cell_type": "code",
      "metadata": {
        "id": "_xpBaNNgpY7M"
      },
      "source": [
        "import os, sys\n",
        "import matplotlib.pyplot as plt\n",
        "import tensorflow as tf\n",
        "import keras\n",
        "import pandas as pd\n",
        "import numpy as np\n",
        "import math\n",
        "import cv2 as cv\n",
        "import matplotlib.patches as patches\n",
        "import statistics\n",
        "import json\n",
        "import glob\n",
        "import scikitplot as skplt\n",
        "\n",
        "#sci kit learn packages\n",
        "from sklearn.model_selection import train_test_split\n",
        "from sklearn.metrics import recall_score\n",
        "from sklearn.metrics import precision_score\n",
        "from sklearn.metrics import f1_score\n",
        "from sklearn.metrics import roc_curve,roc_auc_score\n",
        "from sklearn.model_selection import train_test_split\n",
        "\n",
        "# keras packages\n",
        "from keras.preprocessing.image import ImageDataGenerator\n",
        "from keras.applications.vgg16 import VGG16\n",
        "from keras.callbacks import TensorBoard\n",
        "from keras.models import Sequential\n",
        "from keras import backend as K\n",
        "from keras.layers.normalization import BatchNormalization\n",
        "from keras.layers.convolutional import Conv2D\n",
        "from keras.layers.convolutional import MaxPooling2D\n",
        "from keras.layers.core import Activation\n",
        "from keras.layers.core import Flatten\n",
        "from keras.layers.core import Dropout\n",
        "from keras.layers.core import Dense\n",
        "from keras.layers.experimental.preprocessing import CenterCrop\n",
        "from keras.callbacks import ReduceLROnPlateau, EarlyStopping\n",
        "from keras.initializers import he_normal\n",
        "from keras.layers import (BatchNormalization, Conv2D, Dense, Dropout, Flatten,\n",
        "                          MaxPool2D, ReLU)\n",
        "from keras.optimizers import Adam\n",
        "\n",
        "\n",
        "# additional packages\n",
        "from google.colab import files\n",
        "from time import time\n",
        "from PIL import Image\n",
        "from operator import itemgetter\n",
        "from matplotlib.pyplot import imread\n",
        "from glob import glob\n",
        "\n",
        "\n"
      ],
      "execution_count": 56,
      "outputs": []
    },
    {
      "cell_type": "markdown",
      "metadata": {
        "id": "hPGMlqNgzZn7"
      },
      "source": [
        "# Import Competition Data from Kaggle"
      ]
    },
    {
      "cell_type": "code",
      "metadata": {
        "id": "cqowS4mWEIEz",
        "outputId": "6e8e5198-deb0-4be8-8b03-81198be96157",
        "colab": {
          "base_uri": "https://localhost:8080/"
        }
      },
      "source": [
        "from google.colab import drive\n",
        "drive.mount('/content/drive')"
      ],
      "execution_count": 49,
      "outputs": [
        {
          "output_type": "stream",
          "text": [
            "Mounted at /content/drive\n"
          ],
          "name": "stdout"
        }
      ]
    },
    {
      "cell_type": "code",
      "metadata": {
        "id": "2DM5fROBJu_C"
      },
      "source": [
        "%%capture\n",
        "!pip install kaggle\n",
        "!pip install --upgrade kaggle"
      ],
      "execution_count": null,
      "outputs": []
    },
    {
      "cell_type": "code",
      "metadata": {
        "id": "zsvpDJRwPBMn"
      },
      "source": [
        "%%capture\n",
        "!pip install --upgrade --force-reinstall --no-deps kaggle"
      ],
      "execution_count": 43,
      "outputs": []
    },
    {
      "cell_type": "code",
      "metadata": {
        "id": "iFb9uvOtJyp8"
      },
      "source": [
        "!mkdir .kaggle"
      ],
      "execution_count": 5,
      "outputs": []
    },
    {
      "cell_type": "code",
      "metadata": {
        "id": "n5E51iDZTkhp",
        "outputId": "a9c735e6-5024-415b-fb9b-debb8a94b88b",
        "colab": {
          "base_uri": "https://localhost:8080/"
        }
      },
      "source": [
        "!mkdir .kaggle\n",
        "!ls -a"
      ],
      "execution_count": 6,
      "outputs": [
        {
          "output_type": "stream",
          "text": [
            "mkdir: cannot create directory ‘.kaggle’: File exists\n",
            ".  ..  .config\t.kaggle  sample_data\n"
          ],
          "name": "stdout"
        }
      ]
    },
    {
      "cell_type": "code",
      "metadata": {
        "id": "RhbEy5CMJ79-"
      },
      "source": [
        "token = {\"username\":\"catnippsunn\",\"key\":\"d10a25e54993332212ca4e9f6a8dece2\"}\n"
      ],
      "execution_count": 7,
      "outputs": []
    },
    {
      "cell_type": "code",
      "metadata": {
        "id": "EsExGfozgR8Q",
        "outputId": "c6d117c5-dca4-45c8-a4fa-791ca982a0d8",
        "colab": {
          "base_uri": "https://localhost:8080/"
        }
      },
      "source": [
        "!mkdir .kaggle\n",
        "!ls -a"
      ],
      "execution_count": 13,
      "outputs": [
        {
          "output_type": "stream",
          "text": [
            "mkdir: cannot create directory ‘.kaggle’: File exists\n",
            ".  ..  .config\t.kaggle  sample_data\n"
          ],
          "name": "stdout"
        }
      ]
    },
    {
      "cell_type": "code",
      "metadata": {
        "id": "nvD8ja0xRtBG"
      },
      "source": [
        "with open('/content/.kaggle/kaggle.json', 'w') as file:\n",
        "    json.dump(token, file)"
      ],
      "execution_count": 44,
      "outputs": []
    },
    {
      "cell_type": "code",
      "metadata": {
        "id": "QLe252lQKGqC"
      },
      "source": [
        "!cp /content/.kaggle/kaggle.json ~/.kaggle/kaggle.json"
      ],
      "execution_count": 45,
      "outputs": []
    },
    {
      "cell_type": "code",
      "metadata": {
        "id": "9CRWdljEKKhS",
        "outputId": "590edb5e-54e9-4114-f45a-648ffa175867",
        "colab": {
          "base_uri": "https://localhost:8080/"
        }
      },
      "source": [
        "!kaggle config set -n path -v{/content}"
      ],
      "execution_count": 46,
      "outputs": [
        {
          "output_type": "stream",
          "text": [
            "- path is now set to: {/content}\n"
          ],
          "name": "stdout"
        }
      ]
    },
    {
      "cell_type": "code",
      "metadata": {
        "id": "IfLn_bziKQR0"
      },
      "source": [
        "!chmod 600 /root/.kaggle/kaggle.json"
      ],
      "execution_count": 47,
      "outputs": []
    },
    {
      "cell_type": "code",
      "metadata": {
        "id": "G029oeNPOJ4m",
        "outputId": "7b385274-70fa-4c89-89f9-a3c88004daf7",
        "colab": {
          "base_uri": "https://localhost:8080/"
        }
      },
      "source": [
        "import glob\n",
        "files = glob.glob('/content/*')\n",
        "for f in files:\n",
        "    print('f: ', f)\n",
        "    if os.path.isfile(f):\n",
        "        os.remove(f)"
      ],
      "execution_count": 54,
      "outputs": [
        {
          "output_type": "stream",
          "text": [
            "f:  /content/drive\n",
            "f:  /content/sample_data\n"
          ],
          "name": "stdout"
        }
      ]
    },
    {
      "cell_type": "code",
      "metadata": {
        "id": "Z66lEY72Gfwh",
        "outputId": "39b63dc3-02a2-4ef0-d16a-16e0cea21186",
        "colab": {
          "base_uri": "https://localhost:8080/"
        }
      },
      "source": [
        "!kaggle competitions download -c histopathologic-cancer-detection -p /content"
      ],
      "execution_count": 55,
      "outputs": [
        {
          "output_type": "stream",
          "text": [
            "Downloading histopathologic-cancer-detection.zip to /content\n",
            "100% 6.30G/6.31G [02:18<00:00, 46.8MB/s]\n",
            "100% 6.31G/6.31G [02:19<00:00, 48.7MB/s]\n"
          ],
          "name": "stdout"
        }
      ]
    },
    {
      "cell_type": "code",
      "metadata": {
        "id": "XlIJ8AKVLH7k"
      },
      "source": [
        "%%capture\n",
        "!unzip \\*.zip"
      ],
      "execution_count": 57,
      "outputs": []
    },
    {
      "cell_type": "code",
      "metadata": {
        "id": "NTGliOFwbhyD"
      },
      "source": [
        "# set useful paths to image and label directories for succinct use in the notebook\n",
        "model_path = '.'\n",
        "path = '/content/'\n",
        "train_folder = '{}train'.format(path)\n",
        "test_folder = '{}train'.format(path)\n",
        "train_folder_cr = '{}train_cropped'.format(path)\n",
        "test_folder_cr = '{}train_cropped'.format(path)\n",
        "train_label = '{}train_labels.csv'.format(path)\n",
        "sample_submission = '{}sample_submission.csv'.format(path)\n",
        "input_test = '{}test'.format(path)"
      ],
      "execution_count": 58,
      "outputs": []
    },
    {
      "cell_type": "markdown",
      "metadata": {
        "id": "PtaJoIWxz2y8"
      },
      "source": [
        "Set up variables based on defaults for data directory paths and shapes.  This allows for easy configuration in the model building fitting. "
      ]
    },
    {
      "cell_type": "code",
      "metadata": {
        "id": "YZxlWUKLUGFG",
        "outputId": "02d64e45-fae3-400f-cae9-ec6c5226209c",
        "colab": {
          "base_uri": "https://localhost:8080/"
        }
      },
      "source": [
        "directory_for_training = train_folder\n",
        "data_shape = (96, 96, 3)\n",
        "dims = (data_shape[0], data_shape[1])\n",
        "dims"
      ],
      "execution_count": 109,
      "outputs": [
        {
          "output_type": "execute_result",
          "data": {
            "text/plain": [
              "(96, 96)"
            ]
          },
          "metadata": {
            "tags": []
          },
          "execution_count": 109
        }
      ]
    },
    {
      "cell_type": "code",
      "metadata": {
        "id": "OQgVbvZ5J5VH",
        "outputId": "14ab7928-dd7d-4480-e3f3-7f3828413630",
        "colab": {
          "base_uri": "https://localhost:8080/"
        }
      },
      "source": [
        "label_data_df = pd.read_csv(train_label)\n",
        "label_data_df[\"file_name\"] = label_data_df[\"id\"].apply(lambda x: x + \".tif\")\n",
        "\n",
        "sample_size = 80000\n",
        "id_label_pos = label_data_df.loc[label_data_df[\"label\"] == 1, :].sample(n=sample_size)\n",
        "id_label_neg = label_data_df.loc[label_data_df[\"label\"] == 0, :].sample(n=sample_size)\n",
        "id_label = pd.concat([id_label_pos, id_label_neg], ignore_index=True)\n",
        "del id_label_pos, id_label_neg\n",
        "\n",
        "id_label_train, id_label_val = train_test_split(id_label, test_size=0.1, stratify=id_label[\"label\"])\n",
        "id_label_train.reset_index(drop=True, inplace=True)\n",
        "id_label_val.reset_index(drop=True, inplace=True)\n",
        "len_train = id_label_train.shape[0]\n",
        "len_val = id_label_val.shape[0]\n",
        "print(\"Training data size: {}.\".format(len_train))\n",
        "print(\"Validation data size: {}.\".format(len_val))\n",
        "del id_label"
      ],
      "execution_count": 60,
      "outputs": [
        {
          "output_type": "stream",
          "text": [
            "Training data size: 144000.\n",
            "Validation data size: 16000.\n"
          ],
          "name": "stdout"
        }
      ]
    },
    {
      "cell_type": "markdown",
      "metadata": {
        "id": "LWWgq53mQRXi"
      },
      "source": [
        "## Labels Dataframe Preprocessing\n",
        "\n",
        "The Binary Class Mode in Keras preprocessing requires classes to be Strings.  This necessitates a translation from the stored data set which has classes stored as 0 and 1 format to represent negative and positive images, respectively.\n",
        "Ref: https://keras.io/api/preprocessing/image/\n",
        "\n",
        "The image ID in the label data set needs to also be adjusted to include the file extension since the mapping of ID will be used directly look up the image in the training and verification directories subsequent steps to set up the CNN."
      ]
    },
    {
      "cell_type": "code",
      "metadata": {
        "id": "xwifzpfE5l0O"
      },
      "source": [
        "# update labels since `class_mode='binary' requires classes to be strings.\n",
        "id_label_train['label'] = np.where(id_label_train['label'] == 0, 'neg','pos')\n",
        "id_label_val['label'] = np.where(id_label_val['label'] == 0, 'neg','pos')\n",
        "# update image IDs to include the .tif file format for proper processing in\n",
        "# subsequent steps.\n",
        "id_label_train['id'] = id_label_train['id'] + '.tif'\n",
        "id_label_val['id'] = id_label_val['id'] + '.tif'"
      ],
      "execution_count": 61,
      "outputs": []
    },
    {
      "cell_type": "code",
      "metadata": {
        "id": "_oep-OPPZIRX",
        "outputId": "cab6ab18-dd89-4b51-aa40-dd66f1e518d1",
        "colab": {
          "base_uri": "https://localhost:8080/",
          "height": 419
        }
      },
      "source": [
        "id_label_val"
      ],
      "execution_count": 62,
      "outputs": [
        {
          "output_type": "execute_result",
          "data": {
            "text/html": [
              "<div>\n",
              "<style scoped>\n",
              "    .dataframe tbody tr th:only-of-type {\n",
              "        vertical-align: middle;\n",
              "    }\n",
              "\n",
              "    .dataframe tbody tr th {\n",
              "        vertical-align: top;\n",
              "    }\n",
              "\n",
              "    .dataframe thead th {\n",
              "        text-align: right;\n",
              "    }\n",
              "</style>\n",
              "<table border=\"1\" class=\"dataframe\">\n",
              "  <thead>\n",
              "    <tr style=\"text-align: right;\">\n",
              "      <th></th>\n",
              "      <th>id</th>\n",
              "      <th>label</th>\n",
              "      <th>file_name</th>\n",
              "    </tr>\n",
              "  </thead>\n",
              "  <tbody>\n",
              "    <tr>\n",
              "      <th>0</th>\n",
              "      <td>ff4762d2b984b754f5542f5649f988e9dbbe7164.tif</td>\n",
              "      <td>pos</td>\n",
              "      <td>ff4762d2b984b754f5542f5649f988e9dbbe7164.tif</td>\n",
              "    </tr>\n",
              "    <tr>\n",
              "      <th>1</th>\n",
              "      <td>e5c02c781afb181e9e890ce886fdb10348934a75.tif</td>\n",
              "      <td>pos</td>\n",
              "      <td>e5c02c781afb181e9e890ce886fdb10348934a75.tif</td>\n",
              "    </tr>\n",
              "    <tr>\n",
              "      <th>2</th>\n",
              "      <td>0b9321022cf7f92fdd6b45ef00b537fed9eace2d.tif</td>\n",
              "      <td>neg</td>\n",
              "      <td>0b9321022cf7f92fdd6b45ef00b537fed9eace2d.tif</td>\n",
              "    </tr>\n",
              "    <tr>\n",
              "      <th>3</th>\n",
              "      <td>5e8b638380a25b5d48658f32b25bad069ad35ad3.tif</td>\n",
              "      <td>pos</td>\n",
              "      <td>5e8b638380a25b5d48658f32b25bad069ad35ad3.tif</td>\n",
              "    </tr>\n",
              "    <tr>\n",
              "      <th>4</th>\n",
              "      <td>2ab9afcd4e94d485cdba536a5d7d29b60aecdcc5.tif</td>\n",
              "      <td>neg</td>\n",
              "      <td>2ab9afcd4e94d485cdba536a5d7d29b60aecdcc5.tif</td>\n",
              "    </tr>\n",
              "    <tr>\n",
              "      <th>...</th>\n",
              "      <td>...</td>\n",
              "      <td>...</td>\n",
              "      <td>...</td>\n",
              "    </tr>\n",
              "    <tr>\n",
              "      <th>15995</th>\n",
              "      <td>6b3c57b3b05da35ce58a0508b48b262199c9875f.tif</td>\n",
              "      <td>neg</td>\n",
              "      <td>6b3c57b3b05da35ce58a0508b48b262199c9875f.tif</td>\n",
              "    </tr>\n",
              "    <tr>\n",
              "      <th>15996</th>\n",
              "      <td>12ff29afe3c056e32df58d29181893c74ea1f699.tif</td>\n",
              "      <td>pos</td>\n",
              "      <td>12ff29afe3c056e32df58d29181893c74ea1f699.tif</td>\n",
              "    </tr>\n",
              "    <tr>\n",
              "      <th>15997</th>\n",
              "      <td>a5c0568834f78b98ef521844915f365ba517ce08.tif</td>\n",
              "      <td>neg</td>\n",
              "      <td>a5c0568834f78b98ef521844915f365ba517ce08.tif</td>\n",
              "    </tr>\n",
              "    <tr>\n",
              "      <th>15998</th>\n",
              "      <td>da3868352a777baf8eeaad87883e6ccf6b593320.tif</td>\n",
              "      <td>neg</td>\n",
              "      <td>da3868352a777baf8eeaad87883e6ccf6b593320.tif</td>\n",
              "    </tr>\n",
              "    <tr>\n",
              "      <th>15999</th>\n",
              "      <td>055534835204a62763f7b2dde1d86bbf77120f99.tif</td>\n",
              "      <td>pos</td>\n",
              "      <td>055534835204a62763f7b2dde1d86bbf77120f99.tif</td>\n",
              "    </tr>\n",
              "  </tbody>\n",
              "</table>\n",
              "<p>16000 rows × 3 columns</p>\n",
              "</div>"
            ],
            "text/plain": [
              "                                                 id  ...                                     file_name\n",
              "0      ff4762d2b984b754f5542f5649f988e9dbbe7164.tif  ...  ff4762d2b984b754f5542f5649f988e9dbbe7164.tif\n",
              "1      e5c02c781afb181e9e890ce886fdb10348934a75.tif  ...  e5c02c781afb181e9e890ce886fdb10348934a75.tif\n",
              "2      0b9321022cf7f92fdd6b45ef00b537fed9eace2d.tif  ...  0b9321022cf7f92fdd6b45ef00b537fed9eace2d.tif\n",
              "3      5e8b638380a25b5d48658f32b25bad069ad35ad3.tif  ...  5e8b638380a25b5d48658f32b25bad069ad35ad3.tif\n",
              "4      2ab9afcd4e94d485cdba536a5d7d29b60aecdcc5.tif  ...  2ab9afcd4e94d485cdba536a5d7d29b60aecdcc5.tif\n",
              "...                                             ...  ...                                           ...\n",
              "15995  6b3c57b3b05da35ce58a0508b48b262199c9875f.tif  ...  6b3c57b3b05da35ce58a0508b48b262199c9875f.tif\n",
              "15996  12ff29afe3c056e32df58d29181893c74ea1f699.tif  ...  12ff29afe3c056e32df58d29181893c74ea1f699.tif\n",
              "15997  a5c0568834f78b98ef521844915f365ba517ce08.tif  ...  a5c0568834f78b98ef521844915f365ba517ce08.tif\n",
              "15998  da3868352a777baf8eeaad87883e6ccf6b593320.tif  ...  da3868352a777baf8eeaad87883e6ccf6b593320.tif\n",
              "15999  055534835204a62763f7b2dde1d86bbf77120f99.tif  ...  055534835204a62763f7b2dde1d86bbf77120f99.tif\n",
              "\n",
              "[16000 rows x 3 columns]"
            ]
          },
          "metadata": {
            "tags": []
          },
          "execution_count": 62
        }
      ]
    },
    {
      "cell_type": "code",
      "metadata": {
        "id": "-CS8wY6nKmMh",
        "outputId": "440b98ae-1951-4109-b565-1fd636516111",
        "colab": {
          "base_uri": "https://localhost:8080/",
          "height": 35
        }
      },
      "source": [
        "train_folder"
      ],
      "execution_count": 63,
      "outputs": [
        {
          "output_type": "execute_result",
          "data": {
            "application/vnd.google.colaboratory.intrinsic+json": {
              "type": "string"
            },
            "text/plain": [
              "'/content/train'"
            ]
          },
          "metadata": {
            "tags": []
          },
          "execution_count": 63
        }
      ]
    },
    {
      "cell_type": "code",
      "metadata": {
        "id": "m-gfAw7LeBR5",
        "outputId": "395abacb-cc6b-4b49-f34b-c78976475d43",
        "colab": {
          "base_uri": "https://localhost:8080/"
        }
      },
      "source": [
        "img_gen_params = {\n",
        "    \"rescale\": 1.0 / 255,\n",
        "    \"samplewise_center\": True,\n",
        "    \"samplewise_std_normalization\": True,\n",
        "    \"horizontal_flip\": True,\n",
        "    \"vertical_flip\": True\n",
        "}\n",
        "\n",
        "img_gen = ImageDataGenerator(**img_gen_params)\n",
        "\n",
        "IMAGE_SHAPE = (96, 96, 3)\n",
        "batch_size = 32\n",
        "\n",
        "img_flow_params_train = {\n",
        "    \"dataframe\": id_label_train,\n",
        "    \"directory\": train_folder,\n",
        "    \"x_col\": \"id\",\n",
        "    \"y_col\": \"label\",\n",
        "    \"batch_size\": batch_size,\n",
        "    \"target_size\": IMAGE_SHAPE[:2],\n",
        "}\n",
        "\n",
        "img_flow_train = img_gen.flow_from_dataframe(**img_flow_params_train)\n",
        "\n",
        "img_flow_params_val = {\n",
        "    \"dataframe\": id_label_val,\n",
        "    \"directory\": train_folder,\n",
        "    \"x_col\": \"id\",\n",
        "    \"y_col\": \"label\",\n",
        "    \"batch_size\": 1,\n",
        "    \"shuffle\": False,\n",
        "    \"target_size\": IMAGE_SHAPE[:2],\n",
        "}\n",
        "\n",
        "img_flow_val = img_gen.flow_from_dataframe(**img_flow_params_val)\n",
        "\n",
        "\n",
        "model = keras.models.Sequential()\n",
        "\n",
        "model.add(Conv2D(filters[0], kernel_size, padding=\"same\", kernel_initializer=he_normal(), input_shape=IMAGE_SHAPE))\n",
        "model.add(BatchNormalization())\n",
        "model.add(ReLU())\n",
        "model.add(Conv2D(filters[0], kernel_size, padding=\"same\", kernel_initializer=he_normal()))\n",
        "model.add(BatchNormalization())\n",
        "model.add(ReLU())\n",
        "model.add(MaxPool2D())\n",
        "model.add(Dropout(drop_prob_conv))\n",
        "\n",
        "model.add(Conv2D(filters[1], kernel_size, padding=\"same\", kernel_initializer=he_normal()))\n",
        "model.add(BatchNormalization())\n",
        "model.add(ReLU())\n",
        "model.add(Conv2D(filters[1], kernel_size, padding=\"same\", kernel_initializer=he_normal()))\n",
        "model.add(BatchNormalization())\n",
        "model.add(ReLU())\n",
        "model.add(MaxPool2D())\n",
        "model.add(Dropout(drop_prob_conv))\n",
        "\n",
        "model.add(Conv2D(filters[2], kernel_size, padding=\"same\", kernel_initializer=he_normal()))\n",
        "model.add(BatchNormalization())\n",
        "model.add(ReLU())\n",
        "model.add(Conv2D(filters[2], kernel_size, padding=\"same\", kernel_initializer=he_normal()))\n",
        "model.add(BatchNormalization())\n",
        "model.add(ReLU())\n",
        "model.add(MaxPool2D())\n",
        "model.add(Dropout(drop_prob_conv))\n",
        "\n",
        "model.add(Flatten())\n",
        "model.add(BatchNormalization())\n",
        "model.add(ReLU())\n",
        "model.add(Dropout(drop_prob_dense))\n",
        "model.add(Dense(256))\n",
        "model.add(BatchNormalization())\n",
        "model.add(ReLU())\n",
        "model.add(Dropout(drop_prob_dense))\n",
        "model.add(Dense(2, activation=\"softmax\"))\n",
        "model.compile(Adam(0.01), loss=\"categorical_crossentropy\", metrics=[\"accuracy\"])\n"
      ],
      "execution_count": 114,
      "outputs": [
        {
          "output_type": "stream",
          "text": [
            "Found 144000 validated image filenames belonging to 2 classes.\n",
            "Found 16000 validated image filenames belonging to 2 classes.\n"
          ],
          "name": "stdout"
        }
      ]
    },
    {
      "cell_type": "code",
      "metadata": {
        "id": "jXeEw1czIKpM",
        "outputId": "a428aff9-ad9b-497c-a958-d0fda2b419e3",
        "colab": {
          "base_uri": "https://localhost:8080/",
          "height": 426
        }
      },
      "source": [
        "\n",
        "lr_decay_params = {\n",
        "    \"monitor\": \"val_acc\",\n",
        "    \"factor\": 0.5,\n",
        "    \"patience\": 1,\n",
        "    \"min_lr\": 1e-5\n",
        "}\n",
        "lr_decay = ReduceLROnPlateau(**lr_decay_params)\n",
        "\n",
        "early_stopping = EarlyStopping(monitor=\"val_acc\", patience=3, verbose=1)\n",
        "\n",
        "\n",
        "# TODO (find additional reference for this setup.)\n",
        "STEP_SIZE_TRAINING=img_flow_train.n//img_flow_train.batch_size\n",
        "# Total number of images in the data set / batch size \n",
        "# (batch size is set in preprocessing api above).\n",
        "STEP_SIZE_TESTING=img_flow_train.n//img_flow_train.batch_size\n",
        "\n",
        "fit_params = {\n",
        "    \"generator\": img_flow_train,\n",
        "    \"steps_per_epoch\": STEP_SIZE_TRAINING,\n",
        "    \"epochs\": 10,\n",
        "    \"verbose\": 1,\n",
        "    \"validation_data\": img_flow_val,\n",
        "    \"validation_steps\": STEP_SIZE_TESTING,\n",
        "    #\"callbacks\": [lr_decay, early_stopping]\n",
        "}\n",
        "print(\"Training the model...\")\n",
        "model.fit_generator(**fit_params)\n",
        "print(\"Done!\")\n"
      ],
      "execution_count": 115,
      "outputs": [
        {
          "output_type": "stream",
          "text": [
            "Training the model...\n",
            "Epoch 1/10\n",
            " 131/4500 [..............................] - ETA: 5:26 - loss: 0.6664 - accuracy: 0.7078"
          ],
          "name": "stdout"
        },
        {
          "output_type": "error",
          "ename": "KeyboardInterrupt",
          "evalue": "ignored",
          "traceback": [
            "\u001b[0;31m---------------------------------------------------------------------------\u001b[0m",
            "\u001b[0;31mKeyboardInterrupt\u001b[0m                         Traceback (most recent call last)",
            "\u001b[0;32m<ipython-input-115-d5c8cc1ff2eb>\u001b[0m in \u001b[0;36m<module>\u001b[0;34m()\u001b[0m\n\u001b[1;32m     27\u001b[0m }\n\u001b[1;32m     28\u001b[0m \u001b[0mprint\u001b[0m\u001b[0;34m(\u001b[0m\u001b[0;34m\"Training the model...\"\u001b[0m\u001b[0;34m)\u001b[0m\u001b[0;34m\u001b[0m\u001b[0;34m\u001b[0m\u001b[0m\n\u001b[0;32m---> 29\u001b[0;31m \u001b[0mmodel\u001b[0m\u001b[0;34m.\u001b[0m\u001b[0mfit_generator\u001b[0m\u001b[0;34m(\u001b[0m\u001b[0;34m**\u001b[0m\u001b[0mfit_params\u001b[0m\u001b[0;34m)\u001b[0m\u001b[0;34m\u001b[0m\u001b[0;34m\u001b[0m\u001b[0m\n\u001b[0m\u001b[1;32m     30\u001b[0m \u001b[0mprint\u001b[0m\u001b[0;34m(\u001b[0m\u001b[0;34m\"Done!\"\u001b[0m\u001b[0;34m)\u001b[0m\u001b[0;34m\u001b[0m\u001b[0;34m\u001b[0m\u001b[0m\n",
            "\u001b[0;32m/usr/local/lib/python3.6/dist-packages/tensorflow/python/util/deprecation.py\u001b[0m in \u001b[0;36mnew_func\u001b[0;34m(*args, **kwargs)\u001b[0m\n\u001b[1;32m    322\u001b[0m               \u001b[0;34m'in a future version'\u001b[0m \u001b[0;32mif\u001b[0m \u001b[0mdate\u001b[0m \u001b[0;32mis\u001b[0m \u001b[0;32mNone\u001b[0m \u001b[0;32melse\u001b[0m \u001b[0;34m(\u001b[0m\u001b[0;34m'after %s'\u001b[0m \u001b[0;34m%\u001b[0m \u001b[0mdate\u001b[0m\u001b[0;34m)\u001b[0m\u001b[0;34m,\u001b[0m\u001b[0;34m\u001b[0m\u001b[0;34m\u001b[0m\u001b[0m\n\u001b[1;32m    323\u001b[0m               instructions)\n\u001b[0;32m--> 324\u001b[0;31m       \u001b[0;32mreturn\u001b[0m \u001b[0mfunc\u001b[0m\u001b[0;34m(\u001b[0m\u001b[0;34m*\u001b[0m\u001b[0margs\u001b[0m\u001b[0;34m,\u001b[0m \u001b[0;34m**\u001b[0m\u001b[0mkwargs\u001b[0m\u001b[0;34m)\u001b[0m\u001b[0;34m\u001b[0m\u001b[0;34m\u001b[0m\u001b[0m\n\u001b[0m\u001b[1;32m    325\u001b[0m     return tf_decorator.make_decorator(\n\u001b[1;32m    326\u001b[0m         \u001b[0mfunc\u001b[0m\u001b[0;34m,\u001b[0m \u001b[0mnew_func\u001b[0m\u001b[0;34m,\u001b[0m \u001b[0;34m'deprecated'\u001b[0m\u001b[0;34m,\u001b[0m\u001b[0;34m\u001b[0m\u001b[0;34m\u001b[0m\u001b[0m\n",
            "\u001b[0;32m/usr/local/lib/python3.6/dist-packages/tensorflow/python/keras/engine/training.py\u001b[0m in \u001b[0;36mfit_generator\u001b[0;34m(self, generator, steps_per_epoch, epochs, verbose, callbacks, validation_data, validation_steps, validation_freq, class_weight, max_queue_size, workers, use_multiprocessing, shuffle, initial_epoch)\u001b[0m\n\u001b[1;32m   1827\u001b[0m         \u001b[0muse_multiprocessing\u001b[0m\u001b[0;34m=\u001b[0m\u001b[0muse_multiprocessing\u001b[0m\u001b[0;34m,\u001b[0m\u001b[0;34m\u001b[0m\u001b[0;34m\u001b[0m\u001b[0m\n\u001b[1;32m   1828\u001b[0m         \u001b[0mshuffle\u001b[0m\u001b[0;34m=\u001b[0m\u001b[0mshuffle\u001b[0m\u001b[0;34m,\u001b[0m\u001b[0;34m\u001b[0m\u001b[0;34m\u001b[0m\u001b[0m\n\u001b[0;32m-> 1829\u001b[0;31m         initial_epoch=initial_epoch)\n\u001b[0m\u001b[1;32m   1830\u001b[0m \u001b[0;34m\u001b[0m\u001b[0m\n\u001b[1;32m   1831\u001b[0m   @deprecation.deprecated(\n",
            "\u001b[0;32m/usr/local/lib/python3.6/dist-packages/tensorflow/python/keras/engine/training.py\u001b[0m in \u001b[0;36m_method_wrapper\u001b[0;34m(self, *args, **kwargs)\u001b[0m\n\u001b[1;32m    106\u001b[0m   \u001b[0;32mdef\u001b[0m \u001b[0m_method_wrapper\u001b[0m\u001b[0;34m(\u001b[0m\u001b[0mself\u001b[0m\u001b[0;34m,\u001b[0m \u001b[0;34m*\u001b[0m\u001b[0margs\u001b[0m\u001b[0;34m,\u001b[0m \u001b[0;34m**\u001b[0m\u001b[0mkwargs\u001b[0m\u001b[0;34m)\u001b[0m\u001b[0;34m:\u001b[0m\u001b[0;34m\u001b[0m\u001b[0;34m\u001b[0m\u001b[0m\n\u001b[1;32m    107\u001b[0m     \u001b[0;32mif\u001b[0m \u001b[0;32mnot\u001b[0m \u001b[0mself\u001b[0m\u001b[0;34m.\u001b[0m\u001b[0m_in_multi_worker_mode\u001b[0m\u001b[0;34m(\u001b[0m\u001b[0;34m)\u001b[0m\u001b[0;34m:\u001b[0m  \u001b[0;31m# pylint: disable=protected-access\u001b[0m\u001b[0;34m\u001b[0m\u001b[0;34m\u001b[0m\u001b[0m\n\u001b[0;32m--> 108\u001b[0;31m       \u001b[0;32mreturn\u001b[0m \u001b[0mmethod\u001b[0m\u001b[0;34m(\u001b[0m\u001b[0mself\u001b[0m\u001b[0;34m,\u001b[0m \u001b[0;34m*\u001b[0m\u001b[0margs\u001b[0m\u001b[0;34m,\u001b[0m \u001b[0;34m**\u001b[0m\u001b[0mkwargs\u001b[0m\u001b[0;34m)\u001b[0m\u001b[0;34m\u001b[0m\u001b[0;34m\u001b[0m\u001b[0m\n\u001b[0m\u001b[1;32m    109\u001b[0m \u001b[0;34m\u001b[0m\u001b[0m\n\u001b[1;32m    110\u001b[0m     \u001b[0;31m# Running inside `run_distribute_coordinator` already.\u001b[0m\u001b[0;34m\u001b[0m\u001b[0;34m\u001b[0m\u001b[0;34m\u001b[0m\u001b[0m\n",
            "\u001b[0;32m/usr/local/lib/python3.6/dist-packages/tensorflow/python/keras/engine/training.py\u001b[0m in \u001b[0;36mfit\u001b[0;34m(self, x, y, batch_size, epochs, verbose, callbacks, validation_split, validation_data, shuffle, class_weight, sample_weight, initial_epoch, steps_per_epoch, validation_steps, validation_batch_size, validation_freq, max_queue_size, workers, use_multiprocessing)\u001b[0m\n\u001b[1;32m   1096\u001b[0m                 batch_size=batch_size):\n\u001b[1;32m   1097\u001b[0m               \u001b[0mcallbacks\u001b[0m\u001b[0;34m.\u001b[0m\u001b[0mon_train_batch_begin\u001b[0m\u001b[0;34m(\u001b[0m\u001b[0mstep\u001b[0m\u001b[0;34m)\u001b[0m\u001b[0;34m\u001b[0m\u001b[0;34m\u001b[0m\u001b[0m\n\u001b[0;32m-> 1098\u001b[0;31m               \u001b[0mtmp_logs\u001b[0m \u001b[0;34m=\u001b[0m \u001b[0mtrain_function\u001b[0m\u001b[0;34m(\u001b[0m\u001b[0miterator\u001b[0m\u001b[0;34m)\u001b[0m\u001b[0;34m\u001b[0m\u001b[0;34m\u001b[0m\u001b[0m\n\u001b[0m\u001b[1;32m   1099\u001b[0m               \u001b[0;32mif\u001b[0m \u001b[0mdata_handler\u001b[0m\u001b[0;34m.\u001b[0m\u001b[0mshould_sync\u001b[0m\u001b[0;34m:\u001b[0m\u001b[0;34m\u001b[0m\u001b[0;34m\u001b[0m\u001b[0m\n\u001b[1;32m   1100\u001b[0m                 \u001b[0mcontext\u001b[0m\u001b[0;34m.\u001b[0m\u001b[0masync_wait\u001b[0m\u001b[0;34m(\u001b[0m\u001b[0;34m)\u001b[0m\u001b[0;34m\u001b[0m\u001b[0;34m\u001b[0m\u001b[0m\n",
            "\u001b[0;32m/usr/local/lib/python3.6/dist-packages/tensorflow/python/eager/def_function.py\u001b[0m in \u001b[0;36m__call__\u001b[0;34m(self, *args, **kwds)\u001b[0m\n\u001b[1;32m    778\u001b[0m       \u001b[0;32melse\u001b[0m\u001b[0;34m:\u001b[0m\u001b[0;34m\u001b[0m\u001b[0;34m\u001b[0m\u001b[0m\n\u001b[1;32m    779\u001b[0m         \u001b[0mcompiler\u001b[0m \u001b[0;34m=\u001b[0m \u001b[0;34m\"nonXla\"\u001b[0m\u001b[0;34m\u001b[0m\u001b[0;34m\u001b[0m\u001b[0m\n\u001b[0;32m--> 780\u001b[0;31m         \u001b[0mresult\u001b[0m \u001b[0;34m=\u001b[0m \u001b[0mself\u001b[0m\u001b[0;34m.\u001b[0m\u001b[0m_call\u001b[0m\u001b[0;34m(\u001b[0m\u001b[0;34m*\u001b[0m\u001b[0margs\u001b[0m\u001b[0;34m,\u001b[0m \u001b[0;34m**\u001b[0m\u001b[0mkwds\u001b[0m\u001b[0;34m)\u001b[0m\u001b[0;34m\u001b[0m\u001b[0;34m\u001b[0m\u001b[0m\n\u001b[0m\u001b[1;32m    781\u001b[0m \u001b[0;34m\u001b[0m\u001b[0m\n\u001b[1;32m    782\u001b[0m       \u001b[0mnew_tracing_count\u001b[0m \u001b[0;34m=\u001b[0m \u001b[0mself\u001b[0m\u001b[0;34m.\u001b[0m\u001b[0m_get_tracing_count\u001b[0m\u001b[0;34m(\u001b[0m\u001b[0;34m)\u001b[0m\u001b[0;34m\u001b[0m\u001b[0;34m\u001b[0m\u001b[0m\n",
            "\u001b[0;32m/usr/local/lib/python3.6/dist-packages/tensorflow/python/eager/def_function.py\u001b[0m in \u001b[0;36m_call\u001b[0;34m(self, *args, **kwds)\u001b[0m\n\u001b[1;32m    805\u001b[0m       \u001b[0;31m# In this case we have created variables on the first call, so we run the\u001b[0m\u001b[0;34m\u001b[0m\u001b[0;34m\u001b[0m\u001b[0;34m\u001b[0m\u001b[0m\n\u001b[1;32m    806\u001b[0m       \u001b[0;31m# defunned version which is guaranteed to never create variables.\u001b[0m\u001b[0;34m\u001b[0m\u001b[0;34m\u001b[0m\u001b[0;34m\u001b[0m\u001b[0m\n\u001b[0;32m--> 807\u001b[0;31m       \u001b[0;32mreturn\u001b[0m \u001b[0mself\u001b[0m\u001b[0;34m.\u001b[0m\u001b[0m_stateless_fn\u001b[0m\u001b[0;34m(\u001b[0m\u001b[0;34m*\u001b[0m\u001b[0margs\u001b[0m\u001b[0;34m,\u001b[0m \u001b[0;34m**\u001b[0m\u001b[0mkwds\u001b[0m\u001b[0;34m)\u001b[0m  \u001b[0;31m# pylint: disable=not-callable\u001b[0m\u001b[0;34m\u001b[0m\u001b[0;34m\u001b[0m\u001b[0m\n\u001b[0m\u001b[1;32m    808\u001b[0m     \u001b[0;32melif\u001b[0m \u001b[0mself\u001b[0m\u001b[0;34m.\u001b[0m\u001b[0m_stateful_fn\u001b[0m \u001b[0;32mis\u001b[0m \u001b[0;32mnot\u001b[0m \u001b[0;32mNone\u001b[0m\u001b[0;34m:\u001b[0m\u001b[0;34m\u001b[0m\u001b[0;34m\u001b[0m\u001b[0m\n\u001b[1;32m    809\u001b[0m       \u001b[0;31m# Release the lock early so that multiple threads can perform the call\u001b[0m\u001b[0;34m\u001b[0m\u001b[0;34m\u001b[0m\u001b[0;34m\u001b[0m\u001b[0m\n",
            "\u001b[0;32m/usr/local/lib/python3.6/dist-packages/tensorflow/python/eager/function.py\u001b[0m in \u001b[0;36m__call__\u001b[0;34m(self, *args, **kwargs)\u001b[0m\n\u001b[1;32m   2827\u001b[0m     \u001b[0;32mwith\u001b[0m \u001b[0mself\u001b[0m\u001b[0;34m.\u001b[0m\u001b[0m_lock\u001b[0m\u001b[0;34m:\u001b[0m\u001b[0;34m\u001b[0m\u001b[0;34m\u001b[0m\u001b[0m\n\u001b[1;32m   2828\u001b[0m       \u001b[0mgraph_function\u001b[0m\u001b[0;34m,\u001b[0m \u001b[0margs\u001b[0m\u001b[0;34m,\u001b[0m \u001b[0mkwargs\u001b[0m \u001b[0;34m=\u001b[0m \u001b[0mself\u001b[0m\u001b[0;34m.\u001b[0m\u001b[0m_maybe_define_function\u001b[0m\u001b[0;34m(\u001b[0m\u001b[0margs\u001b[0m\u001b[0;34m,\u001b[0m \u001b[0mkwargs\u001b[0m\u001b[0;34m)\u001b[0m\u001b[0;34m\u001b[0m\u001b[0;34m\u001b[0m\u001b[0m\n\u001b[0;32m-> 2829\u001b[0;31m     \u001b[0;32mreturn\u001b[0m \u001b[0mgraph_function\u001b[0m\u001b[0;34m.\u001b[0m\u001b[0m_filtered_call\u001b[0m\u001b[0;34m(\u001b[0m\u001b[0margs\u001b[0m\u001b[0;34m,\u001b[0m \u001b[0mkwargs\u001b[0m\u001b[0;34m)\u001b[0m  \u001b[0;31m# pylint: disable=protected-access\u001b[0m\u001b[0;34m\u001b[0m\u001b[0;34m\u001b[0m\u001b[0m\n\u001b[0m\u001b[1;32m   2830\u001b[0m \u001b[0;34m\u001b[0m\u001b[0m\n\u001b[1;32m   2831\u001b[0m   \u001b[0;34m@\u001b[0m\u001b[0mproperty\u001b[0m\u001b[0;34m\u001b[0m\u001b[0;34m\u001b[0m\u001b[0m\n",
            "\u001b[0;32m/usr/local/lib/python3.6/dist-packages/tensorflow/python/eager/function.py\u001b[0m in \u001b[0;36m_filtered_call\u001b[0;34m(self, args, kwargs, cancellation_manager)\u001b[0m\n\u001b[1;32m   1846\u001b[0m                            resource_variable_ops.BaseResourceVariable))],\n\u001b[1;32m   1847\u001b[0m         \u001b[0mcaptured_inputs\u001b[0m\u001b[0;34m=\u001b[0m\u001b[0mself\u001b[0m\u001b[0;34m.\u001b[0m\u001b[0mcaptured_inputs\u001b[0m\u001b[0;34m,\u001b[0m\u001b[0;34m\u001b[0m\u001b[0;34m\u001b[0m\u001b[0m\n\u001b[0;32m-> 1848\u001b[0;31m         cancellation_manager=cancellation_manager)\n\u001b[0m\u001b[1;32m   1849\u001b[0m \u001b[0;34m\u001b[0m\u001b[0m\n\u001b[1;32m   1850\u001b[0m   \u001b[0;32mdef\u001b[0m \u001b[0m_call_flat\u001b[0m\u001b[0;34m(\u001b[0m\u001b[0mself\u001b[0m\u001b[0;34m,\u001b[0m \u001b[0margs\u001b[0m\u001b[0;34m,\u001b[0m \u001b[0mcaptured_inputs\u001b[0m\u001b[0;34m,\u001b[0m \u001b[0mcancellation_manager\u001b[0m\u001b[0;34m=\u001b[0m\u001b[0;32mNone\u001b[0m\u001b[0;34m)\u001b[0m\u001b[0;34m:\u001b[0m\u001b[0;34m\u001b[0m\u001b[0;34m\u001b[0m\u001b[0m\n",
            "\u001b[0;32m/usr/local/lib/python3.6/dist-packages/tensorflow/python/eager/function.py\u001b[0m in \u001b[0;36m_call_flat\u001b[0;34m(self, args, captured_inputs, cancellation_manager)\u001b[0m\n\u001b[1;32m   1922\u001b[0m       \u001b[0;31m# No tape is watching; skip to running the function.\u001b[0m\u001b[0;34m\u001b[0m\u001b[0;34m\u001b[0m\u001b[0;34m\u001b[0m\u001b[0m\n\u001b[1;32m   1923\u001b[0m       return self._build_call_outputs(self._inference_function.call(\n\u001b[0;32m-> 1924\u001b[0;31m           ctx, args, cancellation_manager=cancellation_manager))\n\u001b[0m\u001b[1;32m   1925\u001b[0m     forward_backward = self._select_forward_and_backward_functions(\n\u001b[1;32m   1926\u001b[0m         \u001b[0margs\u001b[0m\u001b[0;34m,\u001b[0m\u001b[0;34m\u001b[0m\u001b[0;34m\u001b[0m\u001b[0m\n",
            "\u001b[0;32m/usr/local/lib/python3.6/dist-packages/tensorflow/python/eager/function.py\u001b[0m in \u001b[0;36mcall\u001b[0;34m(self, ctx, args, cancellation_manager)\u001b[0m\n\u001b[1;32m    548\u001b[0m               \u001b[0minputs\u001b[0m\u001b[0;34m=\u001b[0m\u001b[0margs\u001b[0m\u001b[0;34m,\u001b[0m\u001b[0;34m\u001b[0m\u001b[0;34m\u001b[0m\u001b[0m\n\u001b[1;32m    549\u001b[0m               \u001b[0mattrs\u001b[0m\u001b[0;34m=\u001b[0m\u001b[0mattrs\u001b[0m\u001b[0;34m,\u001b[0m\u001b[0;34m\u001b[0m\u001b[0;34m\u001b[0m\u001b[0m\n\u001b[0;32m--> 550\u001b[0;31m               ctx=ctx)\n\u001b[0m\u001b[1;32m    551\u001b[0m         \u001b[0;32melse\u001b[0m\u001b[0;34m:\u001b[0m\u001b[0;34m\u001b[0m\u001b[0;34m\u001b[0m\u001b[0m\n\u001b[1;32m    552\u001b[0m           outputs = execute.execute_with_cancellation(\n",
            "\u001b[0;32m/usr/local/lib/python3.6/dist-packages/tensorflow/python/eager/execute.py\u001b[0m in \u001b[0;36mquick_execute\u001b[0;34m(op_name, num_outputs, inputs, attrs, ctx, name)\u001b[0m\n\u001b[1;32m     58\u001b[0m     \u001b[0mctx\u001b[0m\u001b[0;34m.\u001b[0m\u001b[0mensure_initialized\u001b[0m\u001b[0;34m(\u001b[0m\u001b[0;34m)\u001b[0m\u001b[0;34m\u001b[0m\u001b[0;34m\u001b[0m\u001b[0m\n\u001b[1;32m     59\u001b[0m     tensors = pywrap_tfe.TFE_Py_Execute(ctx._handle, device_name, op_name,\n\u001b[0;32m---> 60\u001b[0;31m                                         inputs, attrs, num_outputs)\n\u001b[0m\u001b[1;32m     61\u001b[0m   \u001b[0;32mexcept\u001b[0m \u001b[0mcore\u001b[0m\u001b[0;34m.\u001b[0m\u001b[0m_NotOkStatusException\u001b[0m \u001b[0;32mas\u001b[0m \u001b[0me\u001b[0m\u001b[0;34m:\u001b[0m\u001b[0;34m\u001b[0m\u001b[0;34m\u001b[0m\u001b[0m\n\u001b[1;32m     62\u001b[0m     \u001b[0;32mif\u001b[0m \u001b[0mname\u001b[0m \u001b[0;32mis\u001b[0m \u001b[0;32mnot\u001b[0m \u001b[0;32mNone\u001b[0m\u001b[0;34m:\u001b[0m\u001b[0;34m\u001b[0m\u001b[0;34m\u001b[0m\u001b[0m\n",
            "\u001b[0;31mKeyboardInterrupt\u001b[0m: "
          ]
        }
      ]
    },
    {
      "cell_type": "markdown",
      "metadata": {
        "id": "ER9weuSsT51h"
      },
      "source": [
        "ref on, 'fit or fit_generator':  https://www.geeksforgeeks.org/keras-fit-and-keras-fit_generator/"
      ]
    },
    {
      "cell_type": "markdown",
      "metadata": {
        "id": "IyoGbE8td-n0"
      },
      "source": [
        "## Metric Analysis Data Viz on Performance\n",
        "\n",
        "Display the Confusion Matrix and Classification Reports for the model."
      ]
    },
    {
      "cell_type": "code",
      "metadata": {
        "id": "wHi6w4rjY_lv",
        "outputId": "51769674-5bcd-4314-a507-e5e765d6bdfd",
        "colab": {
          "base_uri": "https://localhost:8080/"
        }
      },
      "source": [
        "test_steps_per_epoch = np.math.ceil(img_flow_val.samples / img_flow_val.batch_size)\n",
        "\n",
        "predictions = model.predict_generator(img_flow_val, steps=test_steps_per_epoch)\n"
      ],
      "execution_count": 118,
      "outputs": [
        {
          "output_type": "stream",
          "text": [
            "WARNING:tensorflow:From <ipython-input-118-48cdb2cc1420>:3: Model.predict_generator (from tensorflow.python.keras.engine.training) is deprecated and will be removed in a future version.\n",
            "Instructions for updating:\n",
            "Please use Model.predict, which supports generators.\n"
          ],
          "name": "stdout"
        }
      ]
    },
    {
      "cell_type": "code",
      "metadata": {
        "id": "s7eBMjXfo-fL"
      },
      "source": [
        "# predicted_classes = np.argmax(predictions, axis=1)\n",
        "# true_classes = img_flow_val.classes\n",
        "# class_labels = list(img_flow_val.class_indices.keys())   \n"
      ],
      "execution_count": 120,
      "outputs": []
    },
    {
      "cell_type": "code",
      "metadata": {
        "id": "jxVMet8T22xX"
      },
      "source": [
        "def plot_roc_curve(fpr,tpr): \n",
        "  plt.plot([0, 1], [0, 1], \"k--\")\n",
        "  plt.plot(fpr, tpr, label=\"ACC={:.4F}, AUC={:.4f}\".format(acc_val, auc_val))\n",
        "  plt.xlabel(\"False positive rate\")\n",
        "  plt.ylabel(\"True positive rate\")\n",
        "  plt.title(\"ROC curve\")\n",
        "  plt.legend(loc=\"best\")\n",
        "  plt.show()\n",
        "  plt.savefig(\"roc_curve.png\")"
      ],
      "execution_count": 121,
      "outputs": []
    },
    {
      "cell_type": "code",
      "metadata": {
        "id": "rZIYK_LBsQt4",
        "outputId": "5f6b7605-8023-49cf-b857-8fcb849d096e",
        "colab": {
          "base_uri": "https://localhost:8080/",
          "height": 363
        }
      },
      "source": [
        "from sklearn.metrics import auc, roc_curve, confusion_matrix, classification_report\n",
        "len_val = id_label_val.shape[0]\n",
        "y_val_pred = model.predict_generator(img_flow_val, steps=test_steps_per_epoch)[:, 1]\n",
        "y_val_true = img_flow_val.classes\n",
        "acc_val = np.equal((y_val_pred > 0.5).astype(\"int\"), y_val_true).sum() / y_val_pred.shape[0]\n",
        "print(\"Validation accuracy: {:.3f}.\".format(acc_val))\n",
        "print(y_val_pred.shape)\n",
        "\n",
        "fpr, tpr, thresholds = roc_curve(y_val_true, y_val_pred)\n",
        "auc_val = auc(fpr, tpr)\n",
        "print(\"Validation AUC: {:.3f}.\".format(auc_val))\n",
        "\n",
        "plot_roc_curve(fpr,tpr)\n",
        "\n"
      ],
      "execution_count": 122,
      "outputs": [
        {
          "output_type": "stream",
          "text": [
            "Validation accuracy: 0.731.\n",
            "(16000,)\n",
            "Validation AUC: 0.821.\n"
          ],
          "name": "stdout"
        },
        {
          "output_type": "display_data",
          "data": {
            "image/png": "[encoded data removed]",
            "text/plain": [
              "<Figure size 432x288 with 1 Axes>"
            ]
          },
          "metadata": {
            "tags": [],
            "needs_background": "light"
          }
        },
        {
          "output_type": "display_data",
          "data": {
            "text/plain": [
              "<Figure size 432x288 with 0 Axes>"
            ]
          },
          "metadata": {
            "tags": []
          }
        }
      ]
    },
    {
      "cell_type": "code",
      "metadata": {
        "id": "s7JO4zMOBQGI",
        "outputId": "99b16ca3-04b1-44a1-e859-e78c3897a514",
        "colab": {
          "base_uri": "https://localhost:8080/"
        }
      },
      "source": [
        "print(len(y_val_pred))\n",
        "print(len(y_val_true))\n",
        "model_orig.summary()"
      ],
      "execution_count": null,
      "outputs": [
        {
          "output_type": "stream",
          "text": [
            "16000\n",
            "16000\n",
            "Model: \"sequential_17\"\n",
            "_________________________________________________________________\n",
            "Layer (type)                 Output Shape              Param #   \n",
            "=================================================================\n",
            "conv2d_157 (Conv2D)          (None, 96, 96, 16)        448       \n",
            "_________________________________________________________________\n",
            "conv2d_158 (Conv2D)          (None, 96, 96, 16)        2320      \n",
            "_________________________________________________________________\n",
            "conv2d_159 (Conv2D)          (None, 96, 96, 16)        2320      \n",
            "_________________________________________________________________\n",
            "dropout_70 (Dropout)         (None, 96, 96, 16)        0         \n",
            "_________________________________________________________________\n",
            "max_pooling2d_54 (MaxPooling (None, 32, 32, 16)        0         \n",
            "_________________________________________________________________\n",
            "conv2d_160 (Conv2D)          (None, 32, 32, 32)        4640      \n",
            "_________________________________________________________________\n",
            "conv2d_161 (Conv2D)          (None, 32, 32, 32)        9248      \n",
            "_________________________________________________________________\n",
            "conv2d_162 (Conv2D)          (None, 32, 32, 32)        9248      \n",
            "_________________________________________________________________\n",
            "dropout_71 (Dropout)         (None, 32, 32, 32)        0         \n",
            "_________________________________________________________________\n",
            "max_pooling2d_55 (MaxPooling (None, 10, 10, 32)        0         \n",
            "_________________________________________________________________\n",
            "conv2d_163 (Conv2D)          (None, 10, 10, 64)        18496     \n",
            "_________________________________________________________________\n",
            "conv2d_164 (Conv2D)          (None, 10, 10, 64)        36928     \n",
            "_________________________________________________________________\n",
            "conv2d_165 (Conv2D)          (None, 10, 10, 64)        36928     \n",
            "_________________________________________________________________\n",
            "dropout_72 (Dropout)         (None, 10, 10, 64)        0         \n",
            "_________________________________________________________________\n",
            "max_pooling2d_56 (MaxPooling (None, 3, 3, 64)          0         \n",
            "_________________________________________________________________\n",
            "conv2d_166 (Conv2D)          (None, 3, 3, 128)         73856     \n",
            "_________________________________________________________________\n",
            "conv2d_167 (Conv2D)          (None, 3, 3, 128)         147584    \n",
            "_________________________________________________________________\n",
            "conv2d_168 (Conv2D)          (None, 3, 3, 128)         147584    \n",
            "_________________________________________________________________\n",
            "dropout_73 (Dropout)         (None, 3, 3, 128)         0         \n",
            "_________________________________________________________________\n",
            "max_pooling2d_57 (MaxPooling (None, 1, 1, 128)         0         \n",
            "_________________________________________________________________\n",
            "flatten_14 (Flatten)         (None, 128)               0         \n",
            "_________________________________________________________________\n",
            "dense_28 (Dense)             (None, 128)               16512     \n",
            "_________________________________________________________________\n",
            "dropout_74 (Dropout)         (None, 128)               0         \n",
            "_________________________________________________________________\n",
            "dense_29 (Dense)             (None, 1)                 129       \n",
            "=================================================================\n",
            "Total params: 506,241\n",
            "Trainable params: 506,241\n",
            "Non-trainable params: 0\n",
            "_________________________________________________________________\n"
          ],
          "name": "stdout"
        }
      ]
    },
    {
      "cell_type": "code",
      "metadata": {
        "id": "TPMN1QDOAaxj",
        "outputId": "b67b5311-915b-4fb7-8049-def1c97734e4",
        "colab": {
          "base_uri": "https://localhost:8080/"
        }
      },
      "source": [
        "print(confusion_matrix(y_val_true, y_val_pred.round()))\n",
        "report = classification_report(y_val_true, y_val_pred.round(), target_names=class_labels)\n",
        "\n",
        "from sklearn.metrics import classification_report, roc_curve\n",
        "print(report) \n",
        "print(confusion_matrix(y_val_true, y_val_pred.round()))"
      ],
      "execution_count": 123,
      "outputs": [
        {
          "output_type": "stream",
          "text": [
            "[[7030  970]\n",
            " [3329 4671]]\n",
            "              precision    recall  f1-score   support\n",
            "\n",
            "         neg       0.68      0.88      0.77      8000\n",
            "         pos       0.83      0.58      0.68      8000\n",
            "\n",
            "    accuracy                           0.73     16000\n",
            "   macro avg       0.75      0.73      0.73     16000\n",
            "weighted avg       0.75      0.73      0.73     16000\n",
            "\n",
            "[[7030  970]\n",
            " [3329 4671]]\n"
          ],
          "name": "stdout"
        }
      ]
    },
    {
      "cell_type": "markdown",
      "metadata": {
        "id": "R9iCM9-RCMQk"
      },
      "source": [
        "## Submission"
      ]
    },
    {
      "cell_type": "code",
      "metadata": {
        "id": "KFw3b-iaCL8t"
      },
      "source": [
        "test_df = pd.read_csv(sample_submission)\n",
        "\n",
        "TESTING_BATCH_SIZE = 64\n",
        "# get test files\n",
        "testing_files = glob(os.path.join(input_test,'*.tif'))\n",
        "# create empty pandas dataframe\n",
        "submission = pd.DataFrame()\n",
        "print(len(testing_files))\n",
        "# 10 should be: len(testing_files)\n",
        "for index in range(0, len(testing_files), TESTING_BATCH_SIZE):\n",
        "    data_frame = pd.DataFrame({'path': testing_files[index:index+TESTING_BATCH_SIZE]})\n",
        "    # parse in IDs and Images for each test file item\n",
        "    data_frame['id'] = data_frame.path.map(lambda x: x.split('/')[3].split(\".\")[0])\n",
        "    data_frame['image'] = data_frame['path'].map(imread)\n",
        "    # join image array\n",
        "    images = np.stack(data_frame.image, axis=0)\n",
        "    ids = np.stack(data_frame.id, axis=0)\n",
        "    # expand dims restructures shape for the image in precitions by expanding it.\n",
        "    predicted_labels = [model_orig.predict(np.expand_dims(image/255.0, axis=0))[0][0] for image in images]\n",
        "    # make a prediction array\n",
        "    predictions = np.array(predicted_labels)\n",
        "    # assign predictions to a new label column in the df\n",
        "    data_frame['label'] = predictions\n",
        "    # can remove this for actual submission, this is more for metric data vis.\n",
        "    # add frame to existing submission df\n",
        "    submission = pd.concat([submission, data_frame[[\"id\", \"label\"]]])\n",
        "    # mark the passing of time with a log\n",
        "    if index % 1000 == 0 :\n",
        "        print(index/len(testing_files) * 100)\n",
        "# convert the submission to a csv\n",
        "submission.to_csv('submission_aug_v1.csv', index=False, header=True)\n",
        "print(submission.head())"
      ],
      "execution_count": null,
      "outputs": []
    },
    {
      "cell_type": "code",
      "metadata": {
        "id": "Eu7t4R6qa10I"
      },
      "source": [
        ""
      ],
      "execution_count": null,
      "outputs": []
    },
    {
      "cell_type": "code",
      "metadata": {
        "id": "RYOivtptTek-"
      },
      "source": [
        "!cp submission_aug_v1.csv \"drive/My Drive/\""
      ],
      "execution_count": null,
      "outputs": []
    },
    {
      "cell_type": "code",
      "metadata": {
        "id": "SKMxPEzDftbh"
      },
      "source": [
        ""
      ],
      "execution_count": null,
      "outputs": []
    },
    {
      "cell_type": "code",
      "metadata": {
        "id": "XteJZ1fTYv98"
      },
      "source": [
        ""
      ],
      "execution_count": null,
      "outputs": []
    },
    {
      "cell_type": "code",
      "metadata": {
        "id": "yVDQX62EVHTT"
      },
      "source": [
        "# modularize the submission code.\n",
        "# get prediction labels from df.\n",
        "# get classes.\n",
        "# pass to metric data vis module."
      ],
      "execution_count": null,
      "outputs": []
    },
    {
      "cell_type": "markdown",
      "metadata": {
        "id": "Z7gzWefB2Khh"
      },
      "source": [
        "refs: \n",
        "https://androidkt.com/get-the-roc-curve-and-auc-for-keras-model/\n",
        "\n",
        "https://tduan.netlify.app/post/ai-from-the-data-center-to-the-edge-training-by-intel/part3-model_analysis"
      ]
    },
    {
      "cell_type": "markdown",
      "metadata": {
        "id": "8Dz98hokvABJ"
      },
      "source": [
        "# Are under the ROC curve."
      ]
    },
    {
      "cell_type": "code",
      "metadata": {
        "id": "raCiyEcSkTxG"
      },
      "source": [
        "# max: 0.9179 on non cropped images.\n",
        "# .86/ 20 epoch with cropped images and standard.\n",
        "# .599/ 20 cropped and nonstandard."
      ],
      "execution_count": null,
      "outputs": []
    },
    {
      "cell_type": "code",
      "metadata": {
        "id": "FUyv21ZgkCse"
      },
      "source": [
        "# metrics:  https://towardsdatascience.com/the-5-classification-evaluation-metrics-you-must-know-aa97784ff226\n",
        "# accuracy, precision, recall.\n",
        "# f1, log loss (specific for binary classification), auc\n",
        "\n",
        "# howto?  calc myself or use classificationReport from scikit\n",
        "# https://datascience.stackexchange.com/questions/45165/how-to-get-accuracy-f1-precision-and-recall-for-a-keras-model\n",
        "# https://keras.io/api/metrics/accuracy_metrics/#binaryaccuracy-class"
      ],
      "execution_count": null,
      "outputs": []
    },
    {
      "cell_type": "code",
      "metadata": {
        "id": "1kYv2bEODxPS"
      },
      "source": [
        ""
      ],
      "execution_count": null,
      "outputs": []
    }
  ]
}